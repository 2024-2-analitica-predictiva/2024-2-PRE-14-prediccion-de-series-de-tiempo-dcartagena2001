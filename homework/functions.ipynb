{
 "cells": [
  {
   "cell_type": "code",
   "execution_count": 1,
   "metadata": {},
   "outputs": [],
   "source": [
    "import os\n",
    "\n",
    "import numpy as np  #  type: ignore\n",
    "import matplotlib.pyplot as plt  #  type: ignore\n",
    "import pandas as pd  #  type: ignore\n",
    "\n",
    "from sklearn.metrics import mean_squared_error, mean_absolute_error\n",
    "from statsmodels.tsa.stattools import acf, pacf  #  type: ignore\n",
    "from statsmodels.graphics.tsaplots import plot_acf, plot_pacf  #  type: ignore\n"
   ]
  },
  {
   "cell_type": "code",
   "execution_count": 2,
   "metadata": {},
   "outputs": [],
   "source": [
    "def load_data():\n",
    "    df = pd.read_csv(\"../files/input/sutter.csv\")\n",
    "    df = df.set_index(\"date\")\n",
    "    return df"
   ]
  },
  {
   "cell_type": "code",
   "execution_count": null,
   "metadata": {},
   "outputs": [],
   "source": [
    "def plot_time_series(df, yt_col=\"yt_true\"):\n",
    "    \"\"\"Time series plot.\"\"\"\n",
    "\n",
    "    plt.figure(figsize=(12, 4))\n",
    "\n",
    "    # yt_real\n",
    "    plt.plot(df[yt_col], \".-k\", linewidth=0.5, label=yt_col)\n",
    "    plt.grid(color=\"lightgray\", linestyle=\"--\", linewidth=0.5)\n",
    "\n",
    "    cols = [col for col in df.columns if col.startswith(\"yt_pred\")]\n",
    "    colors = \"rbgcmy\"\n",
    "    for i, col in enumerate(cols):\n",
    "        plt.plot(df[col], \".-\", color=colors[i], linewidth=0.7, label=col)\n",
    "\n",
    "    # line division\n",
    "    plt.plot(\n",
    "        [len(df[yt_col]) - 24, len(df[yt_col]) - 24],\n",
    "        [min(df[yt_col]), max(df[yt_col])],\n",
    "        \"--\",\n",
    "        linewidth=2,\n",
    "    )\n",
    "\n",
    "    # format\n",
    "    plt.xticks(rotation=90)\n",
    "    plt.xticks(range(0, len(df[yt_col]), 12), df[yt_col].index[::12])\n",
    "    plt.yticks(fontsize=8)\n",
    "    plt.xticks(fontsize=8)\n",
    "    plt.legend()\n",
    "    plt.show()\n"
   ]
  },
  {
   "cell_type": "code",
   "execution_count": 4,
   "metadata": {},
   "outputs": [],
   "source": [
    "\n",
    "def acf_pacf_plots(z):\n",
    "    \"\"\"Correlation plot.\"\"\"\n",
    "\n",
    "    def format_plot():\n",
    "        plt.gca().spines[\"top\"].set_visible(False)\n",
    "        plt.gca().spines[\"bottom\"].set_visible(False)\n",
    "        plt.gca().spines[\"right\"].set_visible(False)\n",
    "        plt.gca().collections[0].set_color(\"k\")\n",
    "        plt.gca().collections[1].set_color(\"gray\")\n",
    "        plt.grid(color=\"lightgray\", linestyle=\"--\", linewidth=0.5)\n",
    "        plt.ylim(-1.03, 1.03)\n",
    "        plt.yticks(fontsize=8)\n",
    "        plt.xticks(fontsize=8)\n",
    "        plt.title(plt.gca().get_title(), fontsize=8)\n",
    "\n",
    "    plt.figure(figsize=(9, 3))\n",
    "\n",
    "    plt.subplot(1, 2, 1)\n",
    "    plot_acf(z, lags=24, ax=plt.gca(), color=\"k\")\n",
    "    format_plot()\n",
    "\n",
    "    plt.subplot(1, 2, 2)\n",
    "    plot_pacf(z, lags=24, ax=plt.gca(), color=\"k\")\n",
    "    format_plot()\n",
    "\n",
    "    plt.show()\n"
   ]
  }
 ],
 "metadata": {
  "kernelspec": {
   "display_name": ".venv",
   "language": "python",
   "name": "python3"
  },
  "language_info": {
   "codemirror_mode": {
    "name": "ipython",
    "version": 3
   },
   "file_extension": ".py",
   "mimetype": "text/x-python",
   "name": "python",
   "nbconvert_exporter": "python",
   "pygments_lexer": "ipython3",
   "version": "3.10.15"
  }
 },
 "nbformat": 4,
 "nbformat_minor": 2
}
